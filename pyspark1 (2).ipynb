{
  "nbformat": 4,
  "nbformat_minor": 0,
  "metadata": {
    "colab": {
      "provenance": []
    },
    "kernelspec": {
      "name": "python3",
      "display_name": "Python 3"
    },
    "language_info": {
      "name": "python"
    }
  },
  "cells": [
    {
      "cell_type": "code",
      "execution_count": 1,
      "metadata": {
        "colab": {
          "base_uri": "https://localhost:8080/"
        },
        "id": "cle9i-s_sd5C",
        "outputId": "14d1e563-6f52-49ab-aa5d-af8b089062e5"
      },
      "outputs": [
        {
          "output_type": "stream",
          "name": "stdout",
          "text": [
            "Collecting pyspark\n",
            "  Downloading pyspark-3.4.1.tar.gz (310.8 MB)\n",
            "\u001b[2K     \u001b[90m━━━━━━━━━━━━━━━━━━━━━━━━━━━━━━━━━━━━━━━\u001b[0m \u001b[32m310.8/310.8 MB\u001b[0m \u001b[31m2.3 MB/s\u001b[0m eta \u001b[36m0:00:00\u001b[0m\n",
            "\u001b[?25h  Preparing metadata (setup.py) ... \u001b[?25l\u001b[?25hdone\n",
            "Requirement already satisfied: py4j==0.10.9.7 in /usr/local/lib/python3.10/dist-packages (from pyspark) (0.10.9.7)\n",
            "Building wheels for collected packages: pyspark\n",
            "  Building wheel for pyspark (setup.py) ... \u001b[?25l\u001b[?25hdone\n",
            "  Created wheel for pyspark: filename=pyspark-3.4.1-py2.py3-none-any.whl size=311285398 sha256=471bd3e32fa8fcbb9d928eea703834fee9c10842e0b87a4cf54f16d4a1df7514\n",
            "  Stored in directory: /root/.cache/pip/wheels/0d/77/a3/ff2f74cc9ab41f8f594dabf0579c2a7c6de920d584206e0834\n",
            "Successfully built pyspark\n",
            "Installing collected packages: pyspark\n",
            "Successfully installed pyspark-3.4.1\n"
          ]
        }
      ],
      "source": [
        "!pip install pyspark"
      ]
    },
    {
      "cell_type": "code",
      "source": [
        "import pyspark"
      ],
      "metadata": {
        "id": "fW3BJBtrs_0C"
      },
      "execution_count": 2,
      "outputs": []
    },
    {
      "cell_type": "code",
      "source": [
        "from pyspark.sql import SparkSession"
      ],
      "metadata": {
        "id": "3YrdOkIEtfmK"
      },
      "execution_count": 4,
      "outputs": []
    },
    {
      "cell_type": "code",
      "source": [
        "\n",
        "spark=SparkSession.builder.appName('Dataframe').getOrCreate()"
      ],
      "metadata": {
        "id": "-pixQecIti1H"
      },
      "execution_count": 5,
      "outputs": []
    },
    {
      "cell_type": "code",
      "source": [
        "spark"
      ],
      "metadata": {
        "colab": {
          "base_uri": "https://localhost:8080/",
          "height": 219
        },
        "id": "qe-wjXxktp5X",
        "outputId": "438d8a2f-5db0-44d7-d2cb-6773019e2796"
      },
      "execution_count": 6,
      "outputs": [
        {
          "output_type": "execute_result",
          "data": {
            "text/plain": [
              "<pyspark.sql.session.SparkSession at 0x7a2ac7f13dc0>"
            ],
            "text/html": [
              "\n",
              "            <div>\n",
              "                <p><b>SparkSession - in-memory</b></p>\n",
              "                \n",
              "        <div>\n",
              "            <p><b>SparkContext</b></p>\n",
              "\n",
              "            <p><a href=\"http://0f601625ecbf:4040\">Spark UI</a></p>\n",
              "\n",
              "            <dl>\n",
              "              <dt>Version</dt>\n",
              "                <dd><code>v3.4.1</code></dd>\n",
              "              <dt>Master</dt>\n",
              "                <dd><code>local[*]</code></dd>\n",
              "              <dt>AppName</dt>\n",
              "                <dd><code>Dataframe</code></dd>\n",
              "            </dl>\n",
              "        </div>\n",
              "        \n",
              "            </div>\n",
              "        "
            ]
          },
          "metadata": {},
          "execution_count": 6
        }
      ]
    },
    {
      "cell_type": "code",
      "source": [
        "df_pyspark=spark.read.option('header','true').csv('/content/drive/MyDrive/wine.csv',inferSchema=True)"
      ],
      "metadata": {
        "id": "Stb8suxPt-55"
      },
      "execution_count": 55,
      "outputs": []
    },
    {
      "cell_type": "code",
      "source": [
        "df_pyspark.printSchema()"
      ],
      "metadata": {
        "colab": {
          "base_uri": "https://localhost:8080/"
        },
        "id": "HkCPqBw-uN0f",
        "outputId": "c9a4ddcc-eebb-4a15-e2bd-5b97a37ec221"
      },
      "execution_count": 56,
      "outputs": [
        {
          "output_type": "stream",
          "name": "stdout",
          "text": [
            "root\n",
            " |-- class: integer (nullable = true)\n",
            " |-- Alcohol: double (nullable = true)\n",
            " |-- Malic acid: double (nullable = true)\n",
            " |-- Ash: double (nullable = true)\n",
            " |-- Alcalinity of ash: double (nullable = true)\n",
            " |-- Magnesium: integer (nullable = true)\n",
            " |-- Total phenols: double (nullable = true)\n",
            " |-- Flavanoids: double (nullable = true)\n",
            " |-- Nonflavanoid phenols: double (nullable = true)\n",
            " |-- Proanthocyanins: double (nullable = true)\n",
            " |-- Color intensity: double (nullable = true)\n",
            " |-- Hue: double (nullable = true)\n",
            " |-- OD280/OD315 of diluted wines: double (nullable = true)\n",
            " |-- Proline : integer (nullable = true)\n",
            "\n"
          ]
        }
      ]
    },
    {
      "cell_type": "code",
      "source": [
        "df_pyspark=spark.read.csv('/content/drive/MyDrive/wine.csv',header=True,inferSchema=True)\n",
        "df_pyspark.show()"
      ],
      "metadata": {
        "colab": {
          "base_uri": "https://localhost:8080/"
        },
        "id": "qZaHqsNauSQf",
        "outputId": "8cc3bb03-b8d0-4a5b-b396-aa22393be553"
      },
      "execution_count": 58,
      "outputs": [
        {
          "output_type": "stream",
          "name": "stdout",
          "text": [
            "+-----+-------+----------+----+-----------------+---------+-------------+----------+--------------------+---------------+---------------+----+----------------------------+--------+\n",
            "|class|Alcohol|Malic acid| Ash|Alcalinity of ash|Magnesium|Total phenols|Flavanoids|Nonflavanoid phenols|Proanthocyanins|Color intensity| Hue|OD280/OD315 of diluted wines|Proline |\n",
            "+-----+-------+----------+----+-----------------+---------+-------------+----------+--------------------+---------------+---------------+----+----------------------------+--------+\n",
            "|    1|  14.23|      1.71|2.43|             15.6|      127|          2.8|      3.06|                0.28|           2.29|           5.64|1.04|                        3.92|    1065|\n",
            "|    1|   13.2|      1.78|2.14|             11.2|      100|         2.65|      2.76|                0.26|           1.28|           4.38|1.05|                         3.4|    1050|\n",
            "|    1|  13.16|      2.36|2.67|             18.6|      101|          2.8|      3.24|                 0.3|           2.81|           5.68|1.03|                        3.17|    1185|\n",
            "|    1|  14.37|      1.95| 2.5|             16.8|      113|         3.85|      3.49|                0.24|           2.18|            7.8|0.86|                        3.45|    1480|\n",
            "|    1|  13.24|      2.59|2.87|             21.0|      118|          2.8|      2.69|                0.39|           1.82|           4.32|1.04|                        2.93|     735|\n",
            "|    1|   14.2|      1.76|2.45|             15.2|      112|         3.27|      3.39|                0.34|           1.97|           6.75|1.05|                        2.85|    1450|\n",
            "|    1|  14.39|      1.87|2.45|             14.6|       96|          2.5|      2.52|                 0.3|           1.98|           5.25|1.02|                        3.58|    1290|\n",
            "|    1|  14.06|      2.15|2.61|             17.6|      121|          2.6|      2.51|                0.31|           1.25|           5.05|1.06|                        3.58|    1295|\n",
            "|    1|  14.83|      1.64|2.17|             14.0|       97|          2.8|      2.98|                0.29|           1.98|            5.2|1.08|                        2.85|    1045|\n",
            "|    1|  13.86|      1.35|2.27|             16.0|       98|         2.98|      3.15|                0.22|           1.85|           7.22|1.01|                        3.55|    1045|\n",
            "|    1|   14.1|      2.16| 2.3|             18.0|      105|         2.95|      3.32|                0.22|           2.38|           5.75|1.25|                        3.17|    1510|\n",
            "|    1|  14.12|      1.48|2.32|             16.8|       95|          2.2|      2.43|                0.26|           1.57|            5.0|1.17|                        2.82|    1280|\n",
            "|    1|  13.75|      1.73|2.41|             16.0|       89|          2.6|      2.76|                0.29|           1.81|            5.6|1.15|                         2.9|    1320|\n",
            "|    1|  14.75|      1.73|2.39|             11.4|       91|          3.1|      3.69|                0.43|           2.81|            5.4|1.25|                        2.73|    1150|\n",
            "|    1|  14.38|      1.87|2.38|             12.0|      102|          3.3|      3.64|                0.29|           2.96|            7.5| 1.2|                         3.0|    1547|\n",
            "|    1|  13.63|      1.81| 2.7|             17.2|      112|         2.85|      2.91|                 0.3|           1.46|            7.3|1.28|                        2.88|    1310|\n",
            "|    1|   14.3|      1.92|2.72|             20.0|      120|          2.8|      3.14|                0.33|           1.97|            6.2|1.07|                        2.65|    1280|\n",
            "|    1|  13.83|      1.57|2.62|             20.0|      115|         2.95|       3.4|                 0.4|           1.72|            6.6|1.13|                        2.57|    1130|\n",
            "|    1|  14.19|      1.59|2.48|             16.5|      108|          3.3|      3.93|                0.32|           1.86|            8.7|1.23|                        2.82|    1680|\n",
            "|    1|  13.64|       3.1|2.56|             15.2|      116|          2.7|      3.03|                0.17|           1.66|            5.1|0.96|                        3.36|     845|\n",
            "+-----+-------+----------+----+-----------------+---------+-------------+----------+--------------------+---------------+---------------+----+----------------------------+--------+\n",
            "only showing top 20 rows\n",
            "\n"
          ]
        }
      ]
    },
    {
      "cell_type": "code",
      "source": [
        "df_pyspark.head(3)"
      ],
      "metadata": {
        "colab": {
          "base_uri": "https://localhost:8080/"
        },
        "id": "Lwo1Gd6xun47",
        "outputId": "aee926cc-1fdf-4f3d-bd75-9d2a07c66d6f"
      },
      "execution_count": 59,
      "outputs": [
        {
          "output_type": "execute_result",
          "data": {
            "text/plain": [
              "[Row(class=1, Alcohol=14.23, Malic acid=1.71, Ash=2.43, Alcalinity of ash=15.6, Magnesium=127, Total phenols=2.8, Flavanoids=3.06, Nonflavanoid phenols=0.28, Proanthocyanins=2.29, Color intensity=5.64, Hue=1.04, OD280/OD315 of diluted wines=3.92, Proline =1065),\n",
              " Row(class=1, Alcohol=13.2, Malic acid=1.78, Ash=2.14, Alcalinity of ash=11.2, Magnesium=100, Total phenols=2.65, Flavanoids=2.76, Nonflavanoid phenols=0.26, Proanthocyanins=1.28, Color intensity=4.38, Hue=1.05, OD280/OD315 of diluted wines=3.4, Proline =1050),\n",
              " Row(class=1, Alcohol=13.16, Malic acid=2.36, Ash=2.67, Alcalinity of ash=18.6, Magnesium=101, Total phenols=2.8, Flavanoids=3.24, Nonflavanoid phenols=0.3, Proanthocyanins=2.81, Color intensity=5.68, Hue=1.03, OD280/OD315 of diluted wines=3.17, Proline =1185)]"
            ]
          },
          "metadata": {},
          "execution_count": 59
        }
      ]
    },
    {
      "cell_type": "code",
      "source": [
        "df_pyspark.select(['class','alcohol']).show()"
      ],
      "metadata": {
        "colab": {
          "base_uri": "https://localhost:8080/"
        },
        "id": "IpN8hiO-vA-_",
        "outputId": "e30d1c39-157c-4b0a-c1c5-56288e9a5041"
      },
      "execution_count": 60,
      "outputs": [
        {
          "output_type": "stream",
          "name": "stdout",
          "text": [
            "+-----+-------+\n",
            "|class|alcohol|\n",
            "+-----+-------+\n",
            "|    1|  14.23|\n",
            "|    1|   13.2|\n",
            "|    1|  13.16|\n",
            "|    1|  14.37|\n",
            "|    1|  13.24|\n",
            "|    1|   14.2|\n",
            "|    1|  14.39|\n",
            "|    1|  14.06|\n",
            "|    1|  14.83|\n",
            "|    1|  13.86|\n",
            "|    1|   14.1|\n",
            "|    1|  14.12|\n",
            "|    1|  13.75|\n",
            "|    1|  14.75|\n",
            "|    1|  14.38|\n",
            "|    1|  13.63|\n",
            "|    1|   14.3|\n",
            "|    1|  13.83|\n",
            "|    1|  14.19|\n",
            "|    1|  13.64|\n",
            "+-----+-------+\n",
            "only showing top 20 rows\n",
            "\n"
          ]
        }
      ]
    },
    {
      "cell_type": "code",
      "source": [
        "df_pyspark.dtypes"
      ],
      "metadata": {
        "colab": {
          "base_uri": "https://localhost:8080/"
        },
        "id": "AxK4RHHbvHJG",
        "outputId": "234247fc-4aab-4877-d929-b1e82c34a090"
      },
      "execution_count": 57,
      "outputs": [
        {
          "output_type": "execute_result",
          "data": {
            "text/plain": [
              "[('class', 'int'),\n",
              " ('Alcohol', 'double'),\n",
              " ('Malic acid', 'double'),\n",
              " ('Ash', 'double'),\n",
              " ('Alcalinity of ash', 'double'),\n",
              " ('Magnesium', 'int'),\n",
              " ('Total phenols', 'double'),\n",
              " ('Flavanoids', 'double'),\n",
              " ('Nonflavanoid phenols', 'double'),\n",
              " ('Proanthocyanins', 'double'),\n",
              " ('Color intensity', 'double'),\n",
              " ('Hue', 'double'),\n",
              " ('OD280/OD315 of diluted wines', 'double'),\n",
              " ('Proline ', 'int')]"
            ]
          },
          "metadata": {},
          "execution_count": 57
        }
      ]
    },
    {
      "cell_type": "code",
      "source": [
        "df_pyspark.describe().show()"
      ],
      "metadata": {
        "colab": {
          "base_uri": "https://localhost:8080/"
        },
        "id": "BmQ1IcDFvLbe",
        "outputId": "ec3b603a-46ee-43a4-9784-a6095698c190"
      },
      "execution_count": 61,
      "outputs": [
        {
          "output_type": "stream",
          "name": "stdout",
          "text": [
            "+-------+------------------+------------------+------------------+------------------+-----------------+------------------+------------------+------------------+--------------------+------------------+-----------------+-------------------+----------------------------+-----------------+\n",
            "|summary|             class|           Alcohol|        Malic acid|               Ash|Alcalinity of ash|         Magnesium|     Total phenols|        Flavanoids|Nonflavanoid phenols|   Proanthocyanins|  Color intensity|                Hue|OD280/OD315 of diluted wines|         Proline |\n",
            "+-------+------------------+------------------+------------------+------------------+-----------------+------------------+------------------+------------------+--------------------+------------------+-----------------+-------------------+----------------------------+-----------------+\n",
            "|  count|               178|               178|               178|               178|              178|               178|               178|               178|                 178|               178|              178|                178|                         178|              178|\n",
            "|   mean|1.9382022471910112|13.000617977528083| 2.336348314606741|2.3665168539325854|19.49494382022472| 99.74157303370787| 2.295112359550562|2.0292696629213474| 0.36185393258426973|1.5908988764044953|5.058089882022473| 0.9574494382022468|          2.6116853932584254|746.8932584269663|\n",
            "| stddev|0.7750349899850563| 0.811826538005858|1.1171460976144625|0.2743440090608148|3.339563767173504|14.282483515295652|0.6258510488339892|0.9988586850169471| 0.12445334029667941|0.5723588626747612|2.318285871822413|0.22857156582982324|          0.7099904287650503|314.9074742768492|\n",
            "|    min|                 1|             11.03|              0.74|              1.36|             10.6|                70|              0.98|              0.34|                0.13|              0.41|             1.28|               0.48|                        1.27|              278|\n",
            "|    max|                 3|             14.83|               5.8|              3.23|             30.0|               162|              3.88|              5.08|                0.66|              3.58|             13.0|               1.71|                         4.0|             1680|\n",
            "+-------+------------------+------------------+------------------+------------------+-----------------+------------------+------------------+------------------+--------------------+------------------+-----------------+-------------------+----------------------------+-----------------+\n",
            "\n"
          ]
        }
      ]
    },
    {
      "cell_type": "code",
      "source": [
        "df_pyspark.show()"
      ],
      "metadata": {
        "colab": {
          "base_uri": "https://localhost:8080/"
        },
        "id": "6g7W07vkvrB4",
        "outputId": "2d8465fb-3478-4624-ee4b-28f6a8ac53c3"
      },
      "execution_count": 62,
      "outputs": [
        {
          "output_type": "stream",
          "name": "stdout",
          "text": [
            "+-----+-------+----------+----+-----------------+---------+-------------+----------+--------------------+---------------+---------------+----+----------------------------+--------+\n",
            "|class|Alcohol|Malic acid| Ash|Alcalinity of ash|Magnesium|Total phenols|Flavanoids|Nonflavanoid phenols|Proanthocyanins|Color intensity| Hue|OD280/OD315 of diluted wines|Proline |\n",
            "+-----+-------+----------+----+-----------------+---------+-------------+----------+--------------------+---------------+---------------+----+----------------------------+--------+\n",
            "|    1|  14.23|      1.71|2.43|             15.6|      127|          2.8|      3.06|                0.28|           2.29|           5.64|1.04|                        3.92|    1065|\n",
            "|    1|   13.2|      1.78|2.14|             11.2|      100|         2.65|      2.76|                0.26|           1.28|           4.38|1.05|                         3.4|    1050|\n",
            "|    1|  13.16|      2.36|2.67|             18.6|      101|          2.8|      3.24|                 0.3|           2.81|           5.68|1.03|                        3.17|    1185|\n",
            "|    1|  14.37|      1.95| 2.5|             16.8|      113|         3.85|      3.49|                0.24|           2.18|            7.8|0.86|                        3.45|    1480|\n",
            "|    1|  13.24|      2.59|2.87|             21.0|      118|          2.8|      2.69|                0.39|           1.82|           4.32|1.04|                        2.93|     735|\n",
            "|    1|   14.2|      1.76|2.45|             15.2|      112|         3.27|      3.39|                0.34|           1.97|           6.75|1.05|                        2.85|    1450|\n",
            "|    1|  14.39|      1.87|2.45|             14.6|       96|          2.5|      2.52|                 0.3|           1.98|           5.25|1.02|                        3.58|    1290|\n",
            "|    1|  14.06|      2.15|2.61|             17.6|      121|          2.6|      2.51|                0.31|           1.25|           5.05|1.06|                        3.58|    1295|\n",
            "|    1|  14.83|      1.64|2.17|             14.0|       97|          2.8|      2.98|                0.29|           1.98|            5.2|1.08|                        2.85|    1045|\n",
            "|    1|  13.86|      1.35|2.27|             16.0|       98|         2.98|      3.15|                0.22|           1.85|           7.22|1.01|                        3.55|    1045|\n",
            "|    1|   14.1|      2.16| 2.3|             18.0|      105|         2.95|      3.32|                0.22|           2.38|           5.75|1.25|                        3.17|    1510|\n",
            "|    1|  14.12|      1.48|2.32|             16.8|       95|          2.2|      2.43|                0.26|           1.57|            5.0|1.17|                        2.82|    1280|\n",
            "|    1|  13.75|      1.73|2.41|             16.0|       89|          2.6|      2.76|                0.29|           1.81|            5.6|1.15|                         2.9|    1320|\n",
            "|    1|  14.75|      1.73|2.39|             11.4|       91|          3.1|      3.69|                0.43|           2.81|            5.4|1.25|                        2.73|    1150|\n",
            "|    1|  14.38|      1.87|2.38|             12.0|      102|          3.3|      3.64|                0.29|           2.96|            7.5| 1.2|                         3.0|    1547|\n",
            "|    1|  13.63|      1.81| 2.7|             17.2|      112|         2.85|      2.91|                 0.3|           1.46|            7.3|1.28|                        2.88|    1310|\n",
            "|    1|   14.3|      1.92|2.72|             20.0|      120|          2.8|      3.14|                0.33|           1.97|            6.2|1.07|                        2.65|    1280|\n",
            "|    1|  13.83|      1.57|2.62|             20.0|      115|         2.95|       3.4|                 0.4|           1.72|            6.6|1.13|                        2.57|    1130|\n",
            "|    1|  14.19|      1.59|2.48|             16.5|      108|          3.3|      3.93|                0.32|           1.86|            8.7|1.23|                        2.82|    1680|\n",
            "|    1|  13.64|       3.1|2.56|             15.2|      116|          2.7|      3.03|                0.17|           1.66|            5.1|0.96|                        3.36|     845|\n",
            "+-----+-------+----------+----+-----------------+---------+-------------+----------+--------------------+---------------+---------------+----+----------------------------+--------+\n",
            "only showing top 20 rows\n",
            "\n"
          ]
        }
      ]
    },
    {
      "cell_type": "code",
      "source": [
        "from pyspark.ml.feature import VectorAssembler\n"
      ],
      "metadata": {
        "id": "cep9off_wBHj"
      },
      "execution_count": 63,
      "outputs": []
    },
    {
      "cell_type": "code",
      "source": [
        "\n",
        "df_pyspark.columns"
      ],
      "metadata": {
        "colab": {
          "base_uri": "https://localhost:8080/"
        },
        "id": "UslVTyv60BJN",
        "outputId": "aa423d5b-b1b4-47bb-a9b1-b02ccb467fa4"
      },
      "execution_count": 64,
      "outputs": [
        {
          "output_type": "execute_result",
          "data": {
            "text/plain": [
              "['class',\n",
              " 'Alcohol',\n",
              " 'Malic acid',\n",
              " 'Ash',\n",
              " 'Alcalinity of ash',\n",
              " 'Magnesium',\n",
              " 'Total phenols',\n",
              " 'Flavanoids',\n",
              " 'Nonflavanoid phenols',\n",
              " 'Proanthocyanins',\n",
              " 'Color intensity',\n",
              " 'Hue',\n",
              " 'OD280/OD315 of diluted wines',\n",
              " 'Proline ']"
            ]
          },
          "metadata": {},
          "execution_count": 64
        }
      ]
    },
    {
      "cell_type": "code",
      "source": [
        "from pyspark.ml.feature import StringIndexer"
      ],
      "metadata": {
        "id": "0cFM_-Er06ns"
      },
      "execution_count": 65,
      "outputs": []
    },
    {
      "cell_type": "code",
      "source": [
        "df=df_pyspark"
      ],
      "metadata": {
        "id": "K35huCFD1sEs"
      },
      "execution_count": 66,
      "outputs": []
    },
    {
      "cell_type": "code",
      "source": [
        "indexer=StringIndexer(inputCol='Magnesium',outputCol='magnesium1')\n",
        "df_r=indexer.fit(df).transform(df)\n",
        "df_r.show()"
      ],
      "metadata": {
        "colab": {
          "base_uri": "https://localhost:8080/"
        },
        "id": "fVfCnEoQ1jes",
        "outputId": "65f350bb-3eb2-4a3c-bbb6-fdd32da8a50c"
      },
      "execution_count": 70,
      "outputs": [
        {
          "output_type": "stream",
          "name": "stdout",
          "text": [
            "+-----+-------+----------+----+-----------------+---------+-------------+----------+--------------------+---------------+---------------+----+----------------------------+--------+----------+\n",
            "|class|Alcohol|Malic acid| Ash|Alcalinity of ash|Magnesium|Total phenols|Flavanoids|Nonflavanoid phenols|Proanthocyanins|Color intensity| Hue|OD280/OD315 of diluted wines|Proline |magnesium1|\n",
            "+-----+-------+----------+----+-----------------+---------+-------------+----------+--------------------+---------------+---------------+----+----------------------------+--------+----------+\n",
            "|    1|  14.23|      1.71|2.43|             15.6|      127|          2.8|      3.06|                0.28|           2.29|           5.64|1.04|                        3.92|    1065|      41.0|\n",
            "|    1|   13.2|      1.78|2.14|             11.2|      100|         2.65|      2.76|                0.26|           1.28|           4.38|1.05|                         3.4|    1050|      18.0|\n",
            "|    1|  13.16|      2.36|2.67|             18.6|      101|          2.8|      3.24|                 0.3|           2.81|           5.68|1.03|                        3.17|    1185|       2.0|\n",
            "|    1|  14.37|      1.95| 2.5|             16.8|      113|         3.85|      3.49|                0.24|           2.18|            7.8|0.86|                        3.45|    1480|      30.0|\n",
            "|    1|  13.24|      2.59|2.87|             21.0|      118|          2.8|      2.69|                0.39|           1.82|           4.32|1.04|                        2.93|     735|      23.0|\n",
            "|    1|   14.2|      1.76|2.45|             15.2|      112|         3.27|      3.39|                0.34|           1.97|           6.75|1.05|                        2.85|    1450|       6.0|\n",
            "|    1|  14.39|      1.87|2.45|             14.6|       96|          2.5|      2.52|                 0.3|           1.98|           5.25|1.02|                        3.58|    1290|       4.0|\n",
            "|    1|  14.06|      2.15|2.61|             17.6|      121|          2.6|      2.51|                0.31|           1.25|           5.05|1.06|                        3.58|    1295|      36.0|\n",
            "|    1|  14.83|      1.64|2.17|             14.0|       97|          2.8|      2.98|                0.29|           1.98|            5.2|1.08|                        2.85|    1045|      13.0|\n",
            "|    1|  13.86|      1.35|2.27|             16.0|       98|         2.98|      3.15|                0.22|           1.85|           7.22|1.01|                        3.55|    1045|       3.0|\n",
            "|    1|   14.1|      2.16| 2.3|             18.0|      105|         2.95|      3.32|                0.22|           2.38|           5.75|1.25|                        3.17|    1510|      29.0|\n",
            "|    1|  14.12|      1.48|2.32|             16.8|       95|          2.2|      2.43|                0.26|           1.57|            5.0|1.17|                        2.82|    1280|      28.0|\n",
            "|    1|  13.75|      1.73|2.41|             16.0|       89|          2.6|      2.76|                0.29|           1.81|            5.6|1.15|                         2.9|    1320|      11.0|\n",
            "|    1|  14.75|      1.73|2.39|             11.4|       91|          3.1|      3.69|                0.43|           2.81|            5.4|1.25|                        2.73|    1150|      32.0|\n",
            "|    1|  14.38|      1.87|2.38|             12.0|      102|          3.3|      3.64|                0.29|           2.96|            7.5| 1.2|                         3.0|    1547|       5.0|\n",
            "|    1|  13.63|      1.81| 2.7|             17.2|      112|         2.85|      2.91|                 0.3|           1.46|            7.3|1.28|                        2.88|    1310|       6.0|\n",
            "|    1|   14.3|      1.92|2.72|             20.0|      120|          2.8|      3.14|                0.33|           1.97|            6.2|1.07|                        2.65|    1280|      24.0|\n",
            "|    1|  13.83|      1.57|2.62|             20.0|      115|         2.95|       3.4|                 0.4|           1.72|            6.6|1.13|                        2.57|    1130|      31.0|\n",
            "|    1|  14.19|      1.59|2.48|             16.5|      108|          3.3|      3.93|                0.32|           1.86|            8.7|1.23|                        2.82|    1680|      16.0|\n",
            "|    1|  13.64|       3.1|2.56|             15.2|      116|          2.7|      3.03|                0.17|           1.66|            5.1|0.96|                        3.36|     845|      22.0|\n",
            "+-----+-------+----------+----+-----------------+---------+-------------+----------+--------------------+---------------+---------------+----+----------------------------+--------+----------+\n",
            "only showing top 20 rows\n",
            "\n"
          ]
        }
      ]
    },
    {
      "cell_type": "code",
      "source": [
        "indexer=StringIndexer(inputCol='class',outputCol='class1')\n",
        "df_r=indexer.fit(df).transform(df)\n",
        "df_r.show()"
      ],
      "metadata": {
        "colab": {
          "base_uri": "https://localhost:8080/"
        },
        "id": "-ZgXmMGHCyGY",
        "outputId": "490a7173-e6c5-4145-aff5-6e7e9bdc3569"
      },
      "execution_count": 101,
      "outputs": [
        {
          "output_type": "stream",
          "name": "stdout",
          "text": [
            "+-----+-------+----------+----+-----------------+---------+-------------+----------+--------------------+---------------+---------------+----+----------------------------+--------+------+\n",
            "|class|Alcohol|Malic acid| Ash|Alcalinity of ash|Magnesium|Total phenols|Flavanoids|Nonflavanoid phenols|Proanthocyanins|Color intensity| Hue|OD280/OD315 of diluted wines|Proline |class1|\n",
            "+-----+-------+----------+----+-----------------+---------+-------------+----------+--------------------+---------------+---------------+----+----------------------------+--------+------+\n",
            "|    1|  14.23|      1.71|2.43|             15.6|      127|          2.8|      3.06|                0.28|           2.29|           5.64|1.04|                        3.92|    1065|   1.0|\n",
            "|    1|   13.2|      1.78|2.14|             11.2|      100|         2.65|      2.76|                0.26|           1.28|           4.38|1.05|                         3.4|    1050|   1.0|\n",
            "|    1|  13.16|      2.36|2.67|             18.6|      101|          2.8|      3.24|                 0.3|           2.81|           5.68|1.03|                        3.17|    1185|   1.0|\n",
            "|    1|  14.37|      1.95| 2.5|             16.8|      113|         3.85|      3.49|                0.24|           2.18|            7.8|0.86|                        3.45|    1480|   1.0|\n",
            "|    1|  13.24|      2.59|2.87|             21.0|      118|          2.8|      2.69|                0.39|           1.82|           4.32|1.04|                        2.93|     735|   1.0|\n",
            "|    1|   14.2|      1.76|2.45|             15.2|      112|         3.27|      3.39|                0.34|           1.97|           6.75|1.05|                        2.85|    1450|   1.0|\n",
            "|    1|  14.39|      1.87|2.45|             14.6|       96|          2.5|      2.52|                 0.3|           1.98|           5.25|1.02|                        3.58|    1290|   1.0|\n",
            "|    1|  14.06|      2.15|2.61|             17.6|      121|          2.6|      2.51|                0.31|           1.25|           5.05|1.06|                        3.58|    1295|   1.0|\n",
            "|    1|  14.83|      1.64|2.17|             14.0|       97|          2.8|      2.98|                0.29|           1.98|            5.2|1.08|                        2.85|    1045|   1.0|\n",
            "|    1|  13.86|      1.35|2.27|             16.0|       98|         2.98|      3.15|                0.22|           1.85|           7.22|1.01|                        3.55|    1045|   1.0|\n",
            "|    1|   14.1|      2.16| 2.3|             18.0|      105|         2.95|      3.32|                0.22|           2.38|           5.75|1.25|                        3.17|    1510|   1.0|\n",
            "|    1|  14.12|      1.48|2.32|             16.8|       95|          2.2|      2.43|                0.26|           1.57|            5.0|1.17|                        2.82|    1280|   1.0|\n",
            "|    1|  13.75|      1.73|2.41|             16.0|       89|          2.6|      2.76|                0.29|           1.81|            5.6|1.15|                         2.9|    1320|   1.0|\n",
            "|    1|  14.75|      1.73|2.39|             11.4|       91|          3.1|      3.69|                0.43|           2.81|            5.4|1.25|                        2.73|    1150|   1.0|\n",
            "|    1|  14.38|      1.87|2.38|             12.0|      102|          3.3|      3.64|                0.29|           2.96|            7.5| 1.2|                         3.0|    1547|   1.0|\n",
            "|    1|  13.63|      1.81| 2.7|             17.2|      112|         2.85|      2.91|                 0.3|           1.46|            7.3|1.28|                        2.88|    1310|   1.0|\n",
            "|    1|   14.3|      1.92|2.72|             20.0|      120|          2.8|      3.14|                0.33|           1.97|            6.2|1.07|                        2.65|    1280|   1.0|\n",
            "|    1|  13.83|      1.57|2.62|             20.0|      115|         2.95|       3.4|                 0.4|           1.72|            6.6|1.13|                        2.57|    1130|   1.0|\n",
            "|    1|  14.19|      1.59|2.48|             16.5|      108|          3.3|      3.93|                0.32|           1.86|            8.7|1.23|                        2.82|    1680|   1.0|\n",
            "|    1|  13.64|       3.1|2.56|             15.2|      116|          2.7|      3.03|                0.17|           1.66|            5.1|0.96|                        3.36|     845|   1.0|\n",
            "+-----+-------+----------+----+-----------------+---------+-------------+----------+--------------------+---------------+---------------+----+----------------------------+--------+------+\n",
            "only showing top 20 rows\n",
            "\n"
          ]
        }
      ]
    },
    {
      "cell_type": "code",
      "source": [
        "from pyspark.sql.types import *"
      ],
      "metadata": {
        "id": "zCf1BhjT6v3i"
      },
      "execution_count": 52,
      "outputs": []
    },
    {
      "cell_type": "markdown",
      "source": [],
      "metadata": {
        "id": "hbhsLjlcCxtS"
      }
    },
    {
      "cell_type": "code",
      "source": [
        "pip install org"
      ],
      "metadata": {
        "colab": {
          "base_uri": "https://localhost:8080/"
        },
        "id": "MTR7D35c7Zfy",
        "outputId": "d811d33b-1cec-4aad-d9d6-720b8c69af5c"
      },
      "execution_count": 54,
      "outputs": [
        {
          "output_type": "stream",
          "name": "stdout",
          "text": [
            "\u001b[31mERROR: Could not find a version that satisfies the requirement org (from versions: none)\u001b[0m\u001b[31m\n",
            "\u001b[0m\u001b[31mERROR: No matching distribution found for org\u001b[0m\u001b[31m\n",
            "\u001b[0m"
          ]
        }
      ]
    },
    {
      "cell_type": "code",
      "source": [
        "df.withColumn(\"Magnesium\",df.Magnesium.cast('double'))\n"
      ],
      "metadata": {
        "colab": {
          "base_uri": "https://localhost:8080/"
        },
        "id": "y_ozfVvH5POD",
        "outputId": "7638a6e9-3a2c-4822-8ec4-b80d47253ec6"
      },
      "execution_count": 74,
      "outputs": [
        {
          "output_type": "execute_result",
          "data": {
            "text/plain": [
              "DataFrame[class: int, Alcohol: double, Malic acid: double, Ash: double, Alcalinity of ash: double, Magnesium: double, Total phenols: double, Flavanoids: double, Nonflavanoid phenols: double, Proanthocyanins: double, Color intensity: double, Hue: double, OD280/OD315 of diluted wines: double, Proline : int]"
            ]
          },
          "metadata": {},
          "execution_count": 74
        }
      ]
    },
    {
      "cell_type": "code",
      "source": [
        "df.dtypes"
      ],
      "metadata": {
        "colab": {
          "base_uri": "https://localhost:8080/"
        },
        "id": "PSAufCEl6BwT",
        "outputId": "5a5e3985-4147-4497-e77d-b5dfc5cda36d"
      },
      "execution_count": 72,
      "outputs": [
        {
          "output_type": "execute_result",
          "data": {
            "text/plain": [
              "[('class', 'int'),\n",
              " ('Alcohol', 'double'),\n",
              " ('Malic acid', 'double'),\n",
              " ('Ash', 'double'),\n",
              " ('Alcalinity of ash', 'double'),\n",
              " ('Magnesium', 'int'),\n",
              " ('Total phenols', 'double'),\n",
              " ('Flavanoids', 'double'),\n",
              " ('Nonflavanoid phenols', 'double'),\n",
              " ('Proanthocyanins', 'double'),\n",
              " ('Color intensity', 'double'),\n",
              " ('Hue', 'double'),\n",
              " ('OD280/OD315 of diluted wines', 'double'),\n",
              " ('Proline ', 'int')]"
            ]
          },
          "metadata": {},
          "execution_count": 72
        }
      ]
    },
    {
      "cell_type": "code",
      "source": [
        "df.dtypes"
      ],
      "metadata": {
        "colab": {
          "base_uri": "https://localhost:8080/"
        },
        "id": "XzBfjs_W-wgY",
        "outputId": "8f360cdc-5a6f-47cd-eae6-677f7716c613"
      },
      "execution_count": 78,
      "outputs": [
        {
          "output_type": "execute_result",
          "data": {
            "text/plain": [
              "[('class', 'int'),\n",
              " ('Alcohol', 'double'),\n",
              " ('Malic acid', 'double'),\n",
              " ('Ash', 'double'),\n",
              " ('Alcalinity of ash', 'double'),\n",
              " ('Magnesium', 'int'),\n",
              " ('Total phenols', 'double'),\n",
              " ('Flavanoids', 'double'),\n",
              " ('Nonflavanoid phenols', 'double'),\n",
              " ('Proanthocyanins', 'double'),\n",
              " ('Color intensity', 'double'),\n",
              " ('Hue', 'double'),\n",
              " ('OD280/OD315 of diluted wines', 'double'),\n",
              " ('Proline ', 'int')]"
            ]
          },
          "metadata": {},
          "execution_count": 78
        }
      ]
    },
    {
      "cell_type": "code",
      "source": [
        "from pyspark.ml.feature import VectorAssembler\n",
        "featureassembler=VectorAssembler(inputCols=['Alcohol','Malic acid','Ash','Alcalinity of ash','Total phenols','Flavanoids',\n",
        "                          'Nonflavanoid phenols','Proanthocyanins','Color intensity','Hue','OD280/OD315 of diluted wines'],outputCol=\"Independent features\")\n",
        "output=featureassembler.transform(df_r)\n"
      ],
      "metadata": {
        "id": "XzTX7bJd1w3v"
      },
      "execution_count": 86,
      "outputs": []
    },
    {
      "cell_type": "code",
      "source": [],
      "metadata": {
        "id": "0vn5ysKbDYul"
      },
      "execution_count": null,
      "outputs": []
    },
    {
      "cell_type": "code",
      "source": [
        "\n",
        "df_r.columns\n",
        ""
      ],
      "metadata": {
        "colab": {
          "base_uri": "https://localhost:8080/"
        },
        "id": "JC3NL8Et2CIE",
        "outputId": "da614871-4eab-44bc-f8da-4cb95dfbcc53"
      },
      "execution_count": 87,
      "outputs": [
        {
          "output_type": "execute_result",
          "data": {
            "text/plain": [
              "['class',\n",
              " 'Alcohol',\n",
              " 'Malic acid',\n",
              " 'Ash',\n",
              " 'Alcalinity of ash',\n",
              " 'Magnesium',\n",
              " 'Total phenols',\n",
              " 'Flavanoids',\n",
              " 'Nonflavanoid phenols',\n",
              " 'Proanthocyanins',\n",
              " 'Color intensity',\n",
              " 'Hue',\n",
              " 'OD280/OD315 of diluted wines',\n",
              " 'Proline ',\n",
              " 'magnesium1']"
            ]
          },
          "metadata": {},
          "execution_count": 87
        }
      ]
    },
    {
      "cell_type": "code",
      "source": [
        "df.show()"
      ],
      "metadata": {
        "colab": {
          "base_uri": "https://localhost:8080/"
        },
        "id": "-futYgjMANZY",
        "outputId": "615bfb58-7b76-404c-a422-165ec2171721"
      },
      "execution_count": 88,
      "outputs": [
        {
          "output_type": "stream",
          "name": "stdout",
          "text": [
            "+-----+-------+----------+----+-----------------+---------+-------------+----------+--------------------+---------------+---------------+----+----------------------------+--------+\n",
            "|class|Alcohol|Malic acid| Ash|Alcalinity of ash|Magnesium|Total phenols|Flavanoids|Nonflavanoid phenols|Proanthocyanins|Color intensity| Hue|OD280/OD315 of diluted wines|Proline |\n",
            "+-----+-------+----------+----+-----------------+---------+-------------+----------+--------------------+---------------+---------------+----+----------------------------+--------+\n",
            "|    1|  14.23|      1.71|2.43|             15.6|      127|          2.8|      3.06|                0.28|           2.29|           5.64|1.04|                        3.92|    1065|\n",
            "|    1|   13.2|      1.78|2.14|             11.2|      100|         2.65|      2.76|                0.26|           1.28|           4.38|1.05|                         3.4|    1050|\n",
            "|    1|  13.16|      2.36|2.67|             18.6|      101|          2.8|      3.24|                 0.3|           2.81|           5.68|1.03|                        3.17|    1185|\n",
            "|    1|  14.37|      1.95| 2.5|             16.8|      113|         3.85|      3.49|                0.24|           2.18|            7.8|0.86|                        3.45|    1480|\n",
            "|    1|  13.24|      2.59|2.87|             21.0|      118|          2.8|      2.69|                0.39|           1.82|           4.32|1.04|                        2.93|     735|\n",
            "|    1|   14.2|      1.76|2.45|             15.2|      112|         3.27|      3.39|                0.34|           1.97|           6.75|1.05|                        2.85|    1450|\n",
            "|    1|  14.39|      1.87|2.45|             14.6|       96|          2.5|      2.52|                 0.3|           1.98|           5.25|1.02|                        3.58|    1290|\n",
            "|    1|  14.06|      2.15|2.61|             17.6|      121|          2.6|      2.51|                0.31|           1.25|           5.05|1.06|                        3.58|    1295|\n",
            "|    1|  14.83|      1.64|2.17|             14.0|       97|          2.8|      2.98|                0.29|           1.98|            5.2|1.08|                        2.85|    1045|\n",
            "|    1|  13.86|      1.35|2.27|             16.0|       98|         2.98|      3.15|                0.22|           1.85|           7.22|1.01|                        3.55|    1045|\n",
            "|    1|   14.1|      2.16| 2.3|             18.0|      105|         2.95|      3.32|                0.22|           2.38|           5.75|1.25|                        3.17|    1510|\n",
            "|    1|  14.12|      1.48|2.32|             16.8|       95|          2.2|      2.43|                0.26|           1.57|            5.0|1.17|                        2.82|    1280|\n",
            "|    1|  13.75|      1.73|2.41|             16.0|       89|          2.6|      2.76|                0.29|           1.81|            5.6|1.15|                         2.9|    1320|\n",
            "|    1|  14.75|      1.73|2.39|             11.4|       91|          3.1|      3.69|                0.43|           2.81|            5.4|1.25|                        2.73|    1150|\n",
            "|    1|  14.38|      1.87|2.38|             12.0|      102|          3.3|      3.64|                0.29|           2.96|            7.5| 1.2|                         3.0|    1547|\n",
            "|    1|  13.63|      1.81| 2.7|             17.2|      112|         2.85|      2.91|                 0.3|           1.46|            7.3|1.28|                        2.88|    1310|\n",
            "|    1|   14.3|      1.92|2.72|             20.0|      120|          2.8|      3.14|                0.33|           1.97|            6.2|1.07|                        2.65|    1280|\n",
            "|    1|  13.83|      1.57|2.62|             20.0|      115|         2.95|       3.4|                 0.4|           1.72|            6.6|1.13|                        2.57|    1130|\n",
            "|    1|  14.19|      1.59|2.48|             16.5|      108|          3.3|      3.93|                0.32|           1.86|            8.7|1.23|                        2.82|    1680|\n",
            "|    1|  13.64|       3.1|2.56|             15.2|      116|          2.7|      3.03|                0.17|           1.66|            5.1|0.96|                        3.36|     845|\n",
            "+-----+-------+----------+----+-----------------+---------+-------------+----------+--------------------+---------------+---------------+----+----------------------------+--------+\n",
            "only showing top 20 rows\n",
            "\n"
          ]
        }
      ]
    },
    {
      "cell_type": "code",
      "source": [
        "\n",
        "output.select('Independent Features').show()"
      ],
      "metadata": {
        "colab": {
          "base_uri": "https://localhost:8080/"
        },
        "id": "jwGSWV3y2Eek",
        "outputId": "ed0ac92f-e719-4cc1-ca17-5d731ac43d76"
      },
      "execution_count": 89,
      "outputs": [
        {
          "output_type": "stream",
          "name": "stdout",
          "text": [
            "+--------------------+\n",
            "|Independent Features|\n",
            "+--------------------+\n",
            "|[14.23,1.71,2.43,...|\n",
            "|[13.2,1.78,2.14,1...|\n",
            "|[13.16,2.36,2.67,...|\n",
            "|[14.37,1.95,2.5,1...|\n",
            "|[13.24,2.59,2.87,...|\n",
            "|[14.2,1.76,2.45,1...|\n",
            "|[14.39,1.87,2.45,...|\n",
            "|[14.06,2.15,2.61,...|\n",
            "|[14.83,1.64,2.17,...|\n",
            "|[13.86,1.35,2.27,...|\n",
            "|[14.1,2.16,2.3,18...|\n",
            "|[14.12,1.48,2.32,...|\n",
            "|[13.75,1.73,2.41,...|\n",
            "|[14.75,1.73,2.39,...|\n",
            "|[14.38,1.87,2.38,...|\n",
            "|[13.63,1.81,2.7,1...|\n",
            "|[14.3,1.92,2.72,2...|\n",
            "|[13.83,1.57,2.62,...|\n",
            "|[14.19,1.59,2.48,...|\n",
            "|[13.64,3.1,2.56,1...|\n",
            "+--------------------+\n",
            "only showing top 20 rows\n",
            "\n"
          ]
        }
      ]
    },
    {
      "cell_type": "code",
      "source": [
        "output.show()"
      ],
      "metadata": {
        "colab": {
          "base_uri": "https://localhost:8080/"
        },
        "id": "FIy9LAoX2HcD",
        "outputId": "f11ae5db-59d3-4533-fed3-8c44debff77c"
      },
      "execution_count": 90,
      "outputs": [
        {
          "output_type": "stream",
          "name": "stdout",
          "text": [
            "+-----+-------+----------+----+-----------------+---------+-------------+----------+--------------------+---------------+---------------+----+----------------------------+--------+----------+--------------------+\n",
            "|class|Alcohol|Malic acid| Ash|Alcalinity of ash|Magnesium|Total phenols|Flavanoids|Nonflavanoid phenols|Proanthocyanins|Color intensity| Hue|OD280/OD315 of diluted wines|Proline |magnesium1|Independent features|\n",
            "+-----+-------+----------+----+-----------------+---------+-------------+----------+--------------------+---------------+---------------+----+----------------------------+--------+----------+--------------------+\n",
            "|    1|  14.23|      1.71|2.43|             15.6|      127|          2.8|      3.06|                0.28|           2.29|           5.64|1.04|                        3.92|    1065|      41.0|[14.23,1.71,2.43,...|\n",
            "|    1|   13.2|      1.78|2.14|             11.2|      100|         2.65|      2.76|                0.26|           1.28|           4.38|1.05|                         3.4|    1050|      18.0|[13.2,1.78,2.14,1...|\n",
            "|    1|  13.16|      2.36|2.67|             18.6|      101|          2.8|      3.24|                 0.3|           2.81|           5.68|1.03|                        3.17|    1185|       2.0|[13.16,2.36,2.67,...|\n",
            "|    1|  14.37|      1.95| 2.5|             16.8|      113|         3.85|      3.49|                0.24|           2.18|            7.8|0.86|                        3.45|    1480|      30.0|[14.37,1.95,2.5,1...|\n",
            "|    1|  13.24|      2.59|2.87|             21.0|      118|          2.8|      2.69|                0.39|           1.82|           4.32|1.04|                        2.93|     735|      23.0|[13.24,2.59,2.87,...|\n",
            "|    1|   14.2|      1.76|2.45|             15.2|      112|         3.27|      3.39|                0.34|           1.97|           6.75|1.05|                        2.85|    1450|       6.0|[14.2,1.76,2.45,1...|\n",
            "|    1|  14.39|      1.87|2.45|             14.6|       96|          2.5|      2.52|                 0.3|           1.98|           5.25|1.02|                        3.58|    1290|       4.0|[14.39,1.87,2.45,...|\n",
            "|    1|  14.06|      2.15|2.61|             17.6|      121|          2.6|      2.51|                0.31|           1.25|           5.05|1.06|                        3.58|    1295|      36.0|[14.06,2.15,2.61,...|\n",
            "|    1|  14.83|      1.64|2.17|             14.0|       97|          2.8|      2.98|                0.29|           1.98|            5.2|1.08|                        2.85|    1045|      13.0|[14.83,1.64,2.17,...|\n",
            "|    1|  13.86|      1.35|2.27|             16.0|       98|         2.98|      3.15|                0.22|           1.85|           7.22|1.01|                        3.55|    1045|       3.0|[13.86,1.35,2.27,...|\n",
            "|    1|   14.1|      2.16| 2.3|             18.0|      105|         2.95|      3.32|                0.22|           2.38|           5.75|1.25|                        3.17|    1510|      29.0|[14.1,2.16,2.3,18...|\n",
            "|    1|  14.12|      1.48|2.32|             16.8|       95|          2.2|      2.43|                0.26|           1.57|            5.0|1.17|                        2.82|    1280|      28.0|[14.12,1.48,2.32,...|\n",
            "|    1|  13.75|      1.73|2.41|             16.0|       89|          2.6|      2.76|                0.29|           1.81|            5.6|1.15|                         2.9|    1320|      11.0|[13.75,1.73,2.41,...|\n",
            "|    1|  14.75|      1.73|2.39|             11.4|       91|          3.1|      3.69|                0.43|           2.81|            5.4|1.25|                        2.73|    1150|      32.0|[14.75,1.73,2.39,...|\n",
            "|    1|  14.38|      1.87|2.38|             12.0|      102|          3.3|      3.64|                0.29|           2.96|            7.5| 1.2|                         3.0|    1547|       5.0|[14.38,1.87,2.38,...|\n",
            "|    1|  13.63|      1.81| 2.7|             17.2|      112|         2.85|      2.91|                 0.3|           1.46|            7.3|1.28|                        2.88|    1310|       6.0|[13.63,1.81,2.7,1...|\n",
            "|    1|   14.3|      1.92|2.72|             20.0|      120|          2.8|      3.14|                0.33|           1.97|            6.2|1.07|                        2.65|    1280|      24.0|[14.3,1.92,2.72,2...|\n",
            "|    1|  13.83|      1.57|2.62|             20.0|      115|         2.95|       3.4|                 0.4|           1.72|            6.6|1.13|                        2.57|    1130|      31.0|[13.83,1.57,2.62,...|\n",
            "|    1|  14.19|      1.59|2.48|             16.5|      108|          3.3|      3.93|                0.32|           1.86|            8.7|1.23|                        2.82|    1680|      16.0|[14.19,1.59,2.48,...|\n",
            "|    1|  13.64|       3.1|2.56|             15.2|      116|          2.7|      3.03|                0.17|           1.66|            5.1|0.96|                        3.36|     845|      22.0|[13.64,3.1,2.56,1...|\n",
            "+-----+-------+----------+----+-----------------+---------+-------------+----------+--------------------+---------------+---------------+----+----------------------------+--------+----------+--------------------+\n",
            "only showing top 20 rows\n",
            "\n"
          ]
        }
      ]
    },
    {
      "cell_type": "code",
      "source": [
        "finalized_data=output.select(\"Independent Features\",\"class\")"
      ],
      "metadata": {
        "id": "Nr-GdhnA2K57"
      },
      "execution_count": 93,
      "outputs": []
    },
    {
      "cell_type": "code",
      "source": [
        "finalized_data.show()"
      ],
      "metadata": {
        "colab": {
          "base_uri": "https://localhost:8080/"
        },
        "id": "mqtki0BH2VIf",
        "outputId": "a4eda717-fb9c-4d97-f15b-eaa3284a655f"
      },
      "execution_count": 94,
      "outputs": [
        {
          "output_type": "stream",
          "name": "stdout",
          "text": [
            "+--------------------+-----+\n",
            "|Independent Features|class|\n",
            "+--------------------+-----+\n",
            "|[14.23,1.71,2.43,...|    1|\n",
            "|[13.2,1.78,2.14,1...|    1|\n",
            "|[13.16,2.36,2.67,...|    1|\n",
            "|[14.37,1.95,2.5,1...|    1|\n",
            "|[13.24,2.59,2.87,...|    1|\n",
            "|[14.2,1.76,2.45,1...|    1|\n",
            "|[14.39,1.87,2.45,...|    1|\n",
            "|[14.06,2.15,2.61,...|    1|\n",
            "|[14.83,1.64,2.17,...|    1|\n",
            "|[13.86,1.35,2.27,...|    1|\n",
            "|[14.1,2.16,2.3,18...|    1|\n",
            "|[14.12,1.48,2.32,...|    1|\n",
            "|[13.75,1.73,2.41,...|    1|\n",
            "|[14.75,1.73,2.39,...|    1|\n",
            "|[14.38,1.87,2.38,...|    1|\n",
            "|[13.63,1.81,2.7,1...|    1|\n",
            "|[14.3,1.92,2.72,2...|    1|\n",
            "|[13.83,1.57,2.62,...|    1|\n",
            "|[14.19,1.59,2.48,...|    1|\n",
            "|[13.64,3.1,2.56,1...|    1|\n",
            "+--------------------+-----+\n",
            "only showing top 20 rows\n",
            "\n"
          ]
        }
      ]
    },
    {
      "cell_type": "code",
      "source": [
        "from pyspark.ml.regression import LinearRegression\n",
        "##train test split\n",
        "train_data,test_data=finalized_data.randomSplit([0.75,0.25])\n",
        "regressor=LinearRegression(featuresCol='Independent Features', labelCol='class')\n",
        "regressor=regressor.fit(train_data)"
      ],
      "metadata": {
        "id": "EbKny0QH2ZRX"
      },
      "execution_count": 95,
      "outputs": []
    },
    {
      "cell_type": "code",
      "source": [
        "regressor.coefficients"
      ],
      "metadata": {
        "colab": {
          "base_uri": "https://localhost:8080/"
        },
        "id": "fNFPoTOc2lqG",
        "outputId": "8ad76396-ff99-42f0-c263-53be22db98c3"
      },
      "execution_count": 96,
      "outputs": [
        {
          "output_type": "execute_result",
          "data": {
            "text/plain": [
              "DenseVector([-0.2006, 0.031, -0.351, 0.0598, 0.1246, -0.3734, -0.1795, -0.0103, 0.056, -0.3132, -0.2952])"
            ]
          },
          "metadata": {},
          "execution_count": 96
        }
      ]
    },
    {
      "cell_type": "code",
      "source": [
        "regressor.intercept"
      ],
      "metadata": {
        "colab": {
          "base_uri": "https://localhost:8080/"
        },
        "id": "MqUDqR9I2ybr",
        "outputId": "35083b74-b3e2-4c3f-dbaf-9482730ba624"
      },
      "execution_count": 97,
      "outputs": [
        {
          "output_type": "execute_result",
          "data": {
            "text/plain": [
              "5.4837639891694865"
            ]
          },
          "metadata": {},
          "execution_count": 97
        }
      ]
    },
    {
      "cell_type": "code",
      "source": [
        "\n",
        "### Predictions\n",
        "pred_results=regressor.evaluate(test_data)"
      ],
      "metadata": {
        "id": "ScJEXrKM21DC"
      },
      "execution_count": 98,
      "outputs": []
    },
    {
      "cell_type": "code",
      "source": [
        "pred_results.predictions.show()"
      ],
      "metadata": {
        "colab": {
          "base_uri": "https://localhost:8080/"
        },
        "id": "fDswdPt6Audv",
        "outputId": "aa27829c-389b-4828-90b8-5b796353117b"
      },
      "execution_count": 99,
      "outputs": [
        {
          "output_type": "stream",
          "name": "stdout",
          "text": [
            "+--------------------+-----+------------------+\n",
            "|Independent Features|class|        prediction|\n",
            "+--------------------+-----+------------------+\n",
            "|[11.82,1.47,1.99,...|    2|2.1122214580076726|\n",
            "|[11.87,4.31,2.39,...|    2|1.6582144626421762|\n",
            "|[12.0,0.92,2.0,19...|    2|1.7153381454978316|\n",
            "|[12.08,2.08,1.7,1...|    2| 1.894700459631427|\n",
            "|[12.21,1.19,1.75,...|    2|2.0159146415330325|\n",
            "|[12.22,1.29,1.94,...|    2|1.9591369780411885|\n",
            "|[12.34,2.45,2.46,...|    2|1.8420350399460594|\n",
            "|[12.36,3.83,2.38,...|    3|3.1728386027069067|\n",
            "|[12.37,1.21,2.56,...|    2| 1.653921277509645|\n",
            "|[12.51,1.73,1.98,...|    2|  1.82863302238463|\n",
            "|[12.77,2.39,2.28,...|    3|3.1466968925825896|\n",
            "|[12.87,4.61,2.48,...|    3|3.0464560224099704|\n",
            "|[12.99,1.67,2.6,3...|    2|1.8299679016782506|\n",
            "|[13.05,1.65,2.55,...|    1|1.5758621340539638|\n",
            "|[13.16,3.57,2.15,...|    3| 2.887060211590715|\n",
            "|[13.23,3.3,2.28,1...|    3|2.9916344411142606|\n",
            "|[13.27,4.28,2.26,...|    3| 3.132503573016306|\n",
            "|[13.3,1.72,2.14,1...|    1|1.6376219494863187|\n",
            "|[13.32,3.24,2.38,...|    3|3.0467084814097167|\n",
            "|[13.34,0.94,2.36,...|    2|2.0403388891010956|\n",
            "+--------------------+-----+------------------+\n",
            "only showing top 20 rows\n",
            "\n"
          ]
        }
      ]
    },
    {
      "cell_type": "code",
      "source": [
        "\n",
        "### PErformance Metrics\n",
        "pred_results.r2,pred_results.meanAbsoluteError,pred_results.meanSquaredError"
      ],
      "metadata": {
        "colab": {
          "base_uri": "https://localhost:8080/"
        },
        "id": "FyWkWhQyAwcP",
        "outputId": "3579500a-47ea-494e-d4bd-d0e2ea4443fd"
      },
      "execution_count": 100,
      "outputs": [
        {
          "output_type": "execute_result",
          "data": {
            "text/plain": [
              "(0.9049071470643294, 0.18873106379179116, 0.06095441977978467)"
            ]
          },
          "metadata": {},
          "execution_count": 100
        }
      ]
    },
    {
      "cell_type": "code",
      "source": [],
      "metadata": {
        "id": "eFZzJxYRAz9X"
      },
      "execution_count": null,
      "outputs": []
    }
  ]
}